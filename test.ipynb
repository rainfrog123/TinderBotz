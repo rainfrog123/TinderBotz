{
 "cells": [
  {
   "cell_type": "code",
   "execution_count": 1,
   "metadata": {},
   "outputs": [
    {
     "ename": "ModuleNotFoundError",
     "evalue": "No module named 'undetected_chromedriver.v2'",
     "output_type": "error",
     "traceback": [
      "\u001b[0;31m---------------------------------------------------------------------------\u001b[0m",
      "\u001b[0;31mModuleNotFoundError\u001b[0m                       Traceback (most recent call last)",
      "\u001b[1;32m/allah/TinderBotz/test.ipynb Cell 1\u001b[0m line \u001b[0;36m5\n\u001b[1;32m      <a href='vscode-notebook-cell://ssh-remote%2Blinode_singapore/allah/TinderBotz/test.ipynb#W0sdnNjb2RlLXJlbW90ZQ%3D%3D?line=0'>1</a>\u001b[0m \u001b[39m'''\u001b[39;00m\n\u001b[1;32m      <a href='vscode-notebook-cell://ssh-remote%2Blinode_singapore/allah/TinderBotz/test.ipynb#W0sdnNjb2RlLXJlbW90ZQ%3D%3D?line=1'>2</a>\u001b[0m \u001b[39mCreated by Frederikme (TeetiFM)\u001b[39;00m\n\u001b[1;32m      <a href='vscode-notebook-cell://ssh-remote%2Blinode_singapore/allah/TinderBotz/test.ipynb#W0sdnNjb2RlLXJlbW90ZQ%3D%3D?line=2'>3</a>\u001b[0m \u001b[39m'''\u001b[39;00m\n\u001b[0;32m----> <a href='vscode-notebook-cell://ssh-remote%2Blinode_singapore/allah/TinderBotz/test.ipynb#W0sdnNjb2RlLXJlbW90ZQ%3D%3D?line=4'>5</a>\u001b[0m \u001b[39mfrom\u001b[39;00m \u001b[39mtinderbotz\u001b[39;00m\u001b[39m.\u001b[39;00m\u001b[39msession\u001b[39;00m \u001b[39mimport\u001b[39;00m Session\n\u001b[1;32m      <a href='vscode-notebook-cell://ssh-remote%2Blinode_singapore/allah/TinderBotz/test.ipynb#W0sdnNjb2RlLXJlbW90ZQ%3D%3D?line=5'>6</a>\u001b[0m \u001b[39mfrom\u001b[39;00m \u001b[39mtinderbotz\u001b[39;00m\u001b[39m.\u001b[39;00m\u001b[39mhelpers\u001b[39;00m\u001b[39m.\u001b[39;00m\u001b[39mconstants_helper\u001b[39;00m \u001b[39mimport\u001b[39;00m \u001b[39m*\u001b[39m\n\u001b[1;32m      <a href='vscode-notebook-cell://ssh-remote%2Blinode_singapore/allah/TinderBotz/test.ipynb#W0sdnNjb2RlLXJlbW90ZQ%3D%3D?line=7'>8</a>\u001b[0m \u001b[39mif\u001b[39;00m \u001b[39m__name__\u001b[39m \u001b[39m==\u001b[39m \u001b[39m\"\u001b[39m\u001b[39m__main__\u001b[39m\u001b[39m\"\u001b[39m:\n\u001b[1;32m      <a href='vscode-notebook-cell://ssh-remote%2Blinode_singapore/allah/TinderBotz/test.ipynb#W0sdnNjb2RlLXJlbW90ZQ%3D%3D?line=8'>9</a>\u001b[0m     \u001b[39m# creates instance of session\u001b[39;00m\n",
      "File \u001b[0;32m/allah/TinderBotz/tinderbotz/__init__.py:1\u001b[0m\n\u001b[0;32m----> 1\u001b[0m \u001b[39mfrom\u001b[39;00m \u001b[39mtinderbotz\u001b[39;00m\u001b[39m.\u001b[39;00m\u001b[39msession\u001b[39;00m \u001b[39mimport\u001b[39;00m Session\n\u001b[1;32m      3\u001b[0m \u001b[39mfrom\u001b[39;00m \u001b[39mtinderbotz\u001b[39;00m\u001b[39m.\u001b[39;00m\u001b[39mhelpers\u001b[39;00m\u001b[39m.\u001b[39;00m\u001b[39mprofile_helper\u001b[39;00m \u001b[39mimport\u001b[39;00m ProfileHelper\n\u001b[1;32m      4\u001b[0m \u001b[39mfrom\u001b[39;00m \u001b[39mtinderbotz\u001b[39;00m\u001b[39m.\u001b[39;00m\u001b[39mhelpers\u001b[39;00m\u001b[39m.\u001b[39;00m\u001b[39mpreferences_helper\u001b[39;00m \u001b[39mimport\u001b[39;00m PreferencesHelper\n",
      "File \u001b[0;32m/allah/TinderBotz/tinderbotz/session.py:4\u001b[0m\n\u001b[1;32m      2\u001b[0m \u001b[39mfrom\u001b[39;00m \u001b[39mselenium\u001b[39;00m \u001b[39mimport\u001b[39;00m webdriver\n\u001b[1;32m      3\u001b[0m \u001b[39m# from webdriver_manager.chrome import ChromeDriverManager\u001b[39;00m\n\u001b[0;32m----> 4\u001b[0m \u001b[39mimport\u001b[39;00m \u001b[39mundetected_chromedriver\u001b[39;00m\u001b[39m.\u001b[39;00m\u001b[39mv2\u001b[39;00m \u001b[39mas\u001b[39;00m \u001b[39muc\u001b[39;00m\n\u001b[1;32m      5\u001b[0m \u001b[39mfrom\u001b[39;00m \u001b[39mselenium\u001b[39;00m\u001b[39m.\u001b[39;00m\u001b[39mwebdriver\u001b[39;00m\u001b[39m.\u001b[39;00m\u001b[39msupport\u001b[39;00m\u001b[39m.\u001b[39;00m\u001b[39mui\u001b[39;00m \u001b[39mimport\u001b[39;00m WebDriverWait\n\u001b[1;32m      6\u001b[0m \u001b[39mfrom\u001b[39;00m \u001b[39mselenium\u001b[39;00m\u001b[39m.\u001b[39;00m\u001b[39mwebdriver\u001b[39;00m\u001b[39m.\u001b[39;00m\u001b[39msupport\u001b[39;00m \u001b[39mimport\u001b[39;00m expected_conditions \u001b[39mas\u001b[39;00m EC\n",
      "\u001b[0;31mModuleNotFoundError\u001b[0m: No module named 'undetected_chromedriver.v2'"
     ]
    }
   ],
   "source": [
    "'''\n",
    "Created by Frederikme (TeetiFM)\n",
    "'''\n",
    "\n",
    "from tinderbotz.session import Session\n",
    "from tinderbotz.helpers.constants_helper import *\n",
    "\n",
    "if __name__ == \"__main__\":\n",
    "    # creates instance of session\n",
    "    session = Session()\n",
    "    # Or if you want to use a proxy\n",
    "    # AUTHORISED BY IP -> \"HOST:PORT\"\n",
    "    # AUTHORISED BY USERNAME, PASSWORD -> \"username:password@HOST:PORT\"\n",
    "    # session = Session(proxy=\"23.23.23.23:3128\")\n",
    "\n",
    "    # set location (Don't need to be logged in for this)\n",
    "    session.set_custom_location(latitude=50.879829, longitude=4.700540)\n",
    "    \n",
    "    # replace this with your own email and password!\n",
    "    email = \"example@gmail.com\"\n",
    "    password = \"password123\"\n",
    "    \n",
    "    # login using your google account with a verified email!\n",
    "    session.login_using_google(email, password)\n",
    "\n",
    "    # Alternatively you can login using facebook with a connected profile!\n",
    "    session.login_using_facebook(email, password)\n",
    "\n",
    "    # Alternatively, you can also use your phone number to login\n",
    "    '''\n",
    "    - country is needed to get the right prefix, in my case +32\n",
    "    - phone_number is everything after the prefix (+32)\n",
    "    NOTE: this is not my phone number :)\n",
    "    '''\n",
    "    country = \"Belgium\"\n",
    "    phone_number = \"479011124\"\n",
    "    session.login_using_sms(country, phone_number)\n",
    "\n",
    "    # spam likes, dislikes and superlikes\n",
    "    # to avoid being banned:\n",
    "    #   - it's best to apply a randomness in your liking by sometimes disliking.\n",
    "    #   - some sleeping between two actions is recommended\n",
    "    # by default the amount is 1, ratio 100% and sleep 1 second\n",
    "    session.like(amount=10, ratio=\"72.5%\", sleep=1)\n",
    "    session.dislike(amount=1)\n",
    "    session.superlike(amount=1)\n",
    "    \n",
    "    # adjust allowed distance for geomatches\n",
    "    # Note: PARAMETER IS IN KILOMETERS!\n",
    "    session.set_distance_range(km=150)\n",
    "\n",
    "    # set range of prefered age\n",
    "    session.set_age_range(18, 55)\n",
    "\n",
    "    # set interested in gender(s) -> options are: WOMEN, MEN, EVERYONE\n",
    "    session.set_sexuality(Sexuality.WOMEN)\n",
    "\n",
    "    # Allow profiles from all over the world to appear\n",
    "    session.set_global(True)\n",
    "\n",
    "    # Getting matches takes a while, so recommended you load as much as possible from local storage\n",
    "    # get new matches, with whom you haven't interacted yet\n",
    "    # Let's load the first 10 new matches to interact with later on.\n",
    "    # quickload on false will make sure ALL images are stored, but this might take a lot more time\n",
    "    new_matches = session.get_new_matches(amount=10, quickload=False)\n",
    "    # get already interacted with matches (matches with whom you've chatted already)\n",
    "    messaged_matches = session.get_messaged_matches()\n",
    "    \n",
    "    # you can store the data and images of these matches now locally in data/matches\n",
    "    # For now let's just store the messaged_matches\n",
    "    for match in messaged_matches:\n",
    "        session.store_local(match)\n",
    "\n",
    "    # Pick up line with their personal name so it doesn't look spammy\n",
    "    pickup_line = \"Hey {}! You. Me. Pizza? Or do you not like pizza?\"\n",
    "\n",
    "    # loop through my new matches and send them the first message of the conversation\n",
    "    for match in new_matches:\n",
    "        # store name and chatid in variables so we can use it more simply later on\n",
    "        name = match.get_name()\n",
    "        id = match.get_chat_id()\n",
    "\n",
    "        print(name, id)\n",
    "\n",
    "        # Format the match her/his name in your pickup line for a more personal approach.\n",
    "        message = pickup_line.format(name)\n",
    "\n",
    "        # send pick up line with their name in it to all my matches\n",
    "        session.send_message(chatid=id, message=message)\n",
    "\n",
    "        # send a funny gif\n",
    "        session.send_gif(chatid=id, gifname=\"\")\n",
    "\n",
    "        # send a funny song\n",
    "        session.send_song(chatid=id, songname=\"\")\n",
    "\n",
    "        # send instagram or other socials like facebook, phonenumber and snapchat\n",
    "        session.send_socials(chatid=id, media=Socials.INSTAGRAM, value=\"Fredjemees\")\n",
    "\n",
    "        # you can also unmatch\n",
    "        #session.unmatch(chatid=id)\n",
    "\n",
    "    # let's scrape some geomatches now\n",
    "    for _ in range(5):\n",
    "        # get profile data (name, age, bio, images, ...)\n",
    "        geomatch = session.get_geomatch(quickload=False)\n",
    "        # store this data locally as json with reference to their respective (locally stored) images\n",
    "        session.store_local(geomatch)\n",
    "        # dislike the profile, so it will show us the next geomatch (since we got infinite amount of dislikes anyway)\n",
    "        session.dislike()\n"
   ]
  },
  {
   "cell_type": "code",
   "execution_count": 5,
   "metadata": {},
   "outputs": [
    {
     "data": {
      "text/plain": [
       "['dislike', 'like', 'like', 'like']"
      ]
     },
     "execution_count": 5,
     "metadata": {},
     "output_type": "execute_result"
    }
   ],
   "source": [
    "import random\n",
    "random.random()\n",
    "amount = 4\n",
    "ratio = 0.5\n",
    "\n",
    "actions = ['like' if random.random() <= ratio else 'dislike' for _ in range(amount)]\n",
    "actions"
   ]
  },
  {
   "cell_type": "code",
   "execution_count": 12,
   "metadata": {},
   "outputs": [
    {
     "data": {
      "text/plain": [
       "0.33651100010920665"
      ]
     },
     "execution_count": 12,
     "metadata": {},
     "output_type": "execute_result"
    }
   ],
   "source": [
    "random.random()\n"
   ]
  }
 ],
 "metadata": {
  "kernelspec": {
   "display_name": "venv",
   "language": "python",
   "name": "python3"
  },
  "language_info": {
   "codemirror_mode": {
    "name": "ipython",
    "version": 3
   },
   "file_extension": ".py",
   "mimetype": "text/x-python",
   "name": "python",
   "nbconvert_exporter": "python",
   "pygments_lexer": "ipython3",
   "version": "3.9.2"
  }
 },
 "nbformat": 4,
 "nbformat_minor": 2
}
